{
  "cells": [
    {
      "cell_type": "markdown",
      "metadata": {
        "id": "view-in-github",
        "colab_type": "text"
      },
      "source": [
        "<a href=\"https://colab.research.google.com/github/KlymentievMaksym/IntelOb/blob/main/Lab5/Lab5.ipynb\" target=\"_parent\"><img src=\"https://colab.research.google.com/assets/colab-badge.svg\" alt=\"Open In Colab\"/></a>"
      ]
    },
    {
      "cell_type": "code",
      "execution_count": 1,
      "id": "bc954daf",
      "metadata": {
        "id": "bc954daf"
      },
      "outputs": [],
      "source": [
        "import numpy as np\n",
        "from sklearn.model_selection import train_test_split\n",
        "\n",
        "import matplotlib.pyplot as plt\n",
        "from tqdm import tqdm\n",
        "\n",
        "import tensorflow as tf\n",
        "layers = tf.keras.layers\n",
        "from tensorflow.keras.datasets import cifar10\n",
        "from tensorflow.keras.utils import to_categorical\n",
        "# from DE import DE"
      ]
    },
    {
      "cell_type": "code",
      "execution_count": 30,
      "id": "a673d41e",
      "metadata": {
        "id": "a673d41e"
      },
      "outputs": [],
      "source": [
        "(x_train, y_train), (x_test, y_test) = cifar10.load_data()\n",
        "x_train, x_test = x_train / 255.0, x_test / 255.0\n",
        "y_train, y_test = to_categorical(y_train), to_categorical(y_test)\n",
        "\n",
        "x_train, x_val, y_train, y_val = train_test_split(x_train, y_train, test_size=0.2)"
      ]
    },
    {
      "cell_type": "code",
      "execution_count": 3,
      "id": "bb7971f6",
      "metadata": {
        "id": "bb7971f6"
      },
      "outputs": [],
      "source": [
        "filepath_save = \"./Models/Model_valAcc{val_accuracy:.2f}_valLoss{val_loss:.2f}.keras\"\n",
        "filepath_backup = \"./Backups/\"\n",
        "callbacks = [\n",
        "    tf.keras.callbacks.ModelCheckpoint(filepath_save, monitor='val_accuracy', save_best_only=True),\n",
        "    tf.keras.callbacks.BackupAndRestore(filepath_backup),\n",
        "    tf.keras.callbacks.EarlyStopping(patience=5, restore_best_weights=True),\n",
        "]\n",
        "\n",
        "data_augmentation = tf.keras.Sequential([\n",
        "  layers.RandomFlip(\"horizontal_and_vertical\"),\n",
        "  layers.RandomRotation(0.2),\n",
        "  layers.RandomContrast(0.2),\n",
        "])"
      ]
    },
    {
      "cell_type": "code",
      "execution_count": 40,
      "id": "d2dc7d03",
      "metadata": {
        "id": "d2dc7d03"
      },
      "outputs": [],
      "source": [
        "def DE(pop_size, iterations, function, limits):\n",
        "    dim = len(limits)\n",
        "    limits = np.array(limits)\n",
        "    x_low = limits[:, 0]\n",
        "    x_high = limits[:, 1]\n",
        "\n",
        "    population = np.random.uniform(x_low, x_high, (pop_size, dim))\n",
        "\n",
        "    max_f = -float('inf')\n",
        "    best_f = float('inf')\n",
        "    best_pop = np.zeros(dim)\n",
        "\n",
        "    fitness = np.array([function(X) for X in population])\n",
        "    for iteration in tqdm(\n",
        "        range(iterations),\n",
        "        desc=\"Processing\",\n",
        "        unit=\"step\",\n",
        "        bar_format=\"{l_bar}{bar:40}{r_bar}\",\n",
        "        colour='cyan',\n",
        "        total=iterations\n",
        "    ):\n",
        "        for i in range(pop_size):\n",
        "            F = np.random.uniform(1e-6, 2)\n",
        "            P = np.random.uniform(1e-6, 1)\n",
        "            r = np.random.uniform(1e-6, 1, dim)\n",
        "            x1, x2, x3 = np.random.choice(population.shape[0], size=3, replace=False)\n",
        "            while np.all(population[x1] == population[i]) or np.all(population[x2] == population[i]) or np.all(population[x3] == population[i]):\n",
        "                x1, x2, x3 = np.random.choice(population.shape[0], size=3, replace=False)\n",
        "            mutant_vector = population[x1] + F * (population[x2] - population[x3])\n",
        "            mutant_vector[r < P] = population[i][r < P]\n",
        "            mutant_fitness = function(mutant_vector)\n",
        "            if fitness[i] > mutant_fitness:\n",
        "                fitness[i] = mutant_fitness\n",
        "                population[i] = mutant_vector.copy()\n",
        "        el_min = np.argmin(fitness)\n",
        "        if best_f > fitness[el_min]:\n",
        "            best_f = fitness[el_min]\n",
        "            best_pop = population[el_min].copy()\n",
        "        el_max = np.max(fitness)\n",
        "        if max_f < el_max:\n",
        "            max_f = el_max\n",
        "\n",
        "    return best_f, best_pop\n",
        "\n",
        "def func(X):\n",
        "    print(X)\n",
        "    amount_of_layer_1 = int(round(X[0]))\n",
        "    amount_of_layer_2 = int(round(X[1]))\n",
        "    amount_of_layer_3 = int(round(X[2]))\n",
        "    amount_of_one_dence = int(round(X[3]))\n",
        "    amount_of_one_filters = int(round(X[4]))\n",
        "    print(np.int64(np.round(X)))\n",
        "    print(amount_of_layer_1, amount_of_layer_2, amount_of_layer_3, amount_of_one_dence, amount_of_one_filters)\n",
        "    model_layers = [\n",
        "        layers.Input(shape=(32, 32, 3)),\n",
        "        # data_augmentation\n",
        "    ]\n",
        "\n",
        "    for _ in range(amount_of_layer_1):\n",
        "        model_layers.append(layers.Conv2D(amount_of_one_filters, (3, 3), activation='relu', padding='same'))\n",
        "        model_layers.append(layers.BatchNormalization())\n",
        "    model_layers.append(layers.MaxPooling2D(2, 2))\n",
        "\n",
        "    # for _ in range(amount_of_layer_2):\n",
        "    #     model_layers.append(layers.Conv2D(amount_of_one_filters * 2, (3, 3), activation='relu', padding='same'))\n",
        "    #     model_layers.append(layers.BatchNormalization())\n",
        "    # model_layers.append(layers.MaxPooling2D(2, 2))\n",
        "    # model_layers.append(layers.Dropout(0.3))\n",
        "\n",
        "    # for _ in range(amount_of_layer_3):\n",
        "    #     model_layers.append(layers.Conv2D(amount_of_one_filters * 4, (3, 3), activation='relu', padding='same'))\n",
        "    #     model_layers.append(layers.BatchNormalization())\n",
        "    # model_layers.append(layers.MaxPooling2D(4, 4))\n",
        "    # model_layers.append(layers.Dropout(0.4))\n",
        "\n",
        "    # model_layers.append(layers.Flatten())\n",
        "    # for _ in range(amount_of_one_dence):\n",
        "    #     model_layers.append(layers.Dense(amount_of_one_filters * 8, activation='relu'))\n",
        "    # model_layers.append(layers.Dropout(0.5))\n",
        "    model_layers.append(layers.Dense(10, activation='softmax'))\n",
        "\n",
        "    model = tf.keras.models.Sequential(model_layers)\n",
        "    model.summary()\n",
        "    model.compile(optimizer=tf.keras.optimizers.Adam(learning_rate=0.001),\n",
        "                loss=tf.keras.losses.CategoricalCrossentropy(),\n",
        "                metrics=['accuracy', tf.keras.metrics.TopKCategoricalAccuracy(k=2, name=\"Top2\")])\n",
        "    history = model.fit(x_train, y_train, batch_size=128, epochs=100, validation_data=(x_val, y_val), callbacks=callbacks)\n",
        "    index = np.argmax(history.history['val_accuracy'])\n",
        "    return (1.0 - history.history['val_accuracy'][index]) + history.history['val_loss'][index]\n",
        "\n",
        "func_limits = [[0, 4], [0, 4], [0, 4], [0, 4], [4, 128]]\n",
        ""
      ]
    },
    {
      "cell_type": "code",
      "execution_count": 41,
      "id": "3e21c7b9",
      "metadata": {
        "id": "3e21c7b9",
        "outputId": "a70aca67-7edd-40ee-e1c0-081e23d3f225",
        "colab": {
          "base_uri": "https://localhost:8080/",
          "height": 1000
        }
      },
      "outputs": [
        {
          "output_type": "stream",
          "name": "stdout",
          "text": [
            "[  2.42565512   2.77224813   0.37218439   2.7574609  125.55249975]\n",
            "[  2   3   0   3 126]\n",
            "2 3 0 3 126\n"
          ]
        },
        {
          "output_type": "display_data",
          "data": {
            "text/plain": [
              "\u001b[1mModel: \"sequential_15\"\u001b[0m\n"
            ],
            "text/html": [
              "<pre style=\"white-space:pre;overflow-x:auto;line-height:normal;font-family:Menlo,'DejaVu Sans Mono',consolas,'Courier New',monospace\"><span style=\"font-weight: bold\">Model: \"sequential_15\"</span>\n",
              "</pre>\n"
            ]
          },
          "metadata": {}
        },
        {
          "output_type": "display_data",
          "data": {
            "text/plain": [
              "┏━━━━━━━━━━━━━━━━━━━━━━━━━━━━━━━━━┳━━━━━━━━━━━━━━━━━━━━━━━━┳━━━━━━━━━━━━━━━┓\n",
              "┃\u001b[1m \u001b[0m\u001b[1mLayer (type)                   \u001b[0m\u001b[1m \u001b[0m┃\u001b[1m \u001b[0m\u001b[1mOutput Shape          \u001b[0m\u001b[1m \u001b[0m┃\u001b[1m \u001b[0m\u001b[1m      Param #\u001b[0m\u001b[1m \u001b[0m┃\n",
              "┡━━━━━━━━━━━━━━━━━━━━━━━━━━━━━━━━━╇━━━━━━━━━━━━━━━━━━━━━━━━╇━━━━━━━━━━━━━━━┩\n",
              "│ conv2d_31 (\u001b[38;5;33mConv2D\u001b[0m)              │ (\u001b[38;5;45mNone\u001b[0m, \u001b[38;5;34m32\u001b[0m, \u001b[38;5;34m32\u001b[0m, \u001b[38;5;34m126\u001b[0m)    │         \u001b[38;5;34m3,528\u001b[0m │\n",
              "├─────────────────────────────────┼────────────────────────┼───────────────┤\n",
              "│ batch_normalization_31          │ (\u001b[38;5;45mNone\u001b[0m, \u001b[38;5;34m32\u001b[0m, \u001b[38;5;34m32\u001b[0m, \u001b[38;5;34m126\u001b[0m)    │           \u001b[38;5;34m504\u001b[0m │\n",
              "│ (\u001b[38;5;33mBatchNormalization\u001b[0m)            │                        │               │\n",
              "├─────────────────────────────────┼────────────────────────┼───────────────┤\n",
              "│ conv2d_32 (\u001b[38;5;33mConv2D\u001b[0m)              │ (\u001b[38;5;45mNone\u001b[0m, \u001b[38;5;34m32\u001b[0m, \u001b[38;5;34m32\u001b[0m, \u001b[38;5;34m126\u001b[0m)    │       \u001b[38;5;34m143,010\u001b[0m │\n",
              "├─────────────────────────────────┼────────────────────────┼───────────────┤\n",
              "│ batch_normalization_32          │ (\u001b[38;5;45mNone\u001b[0m, \u001b[38;5;34m32\u001b[0m, \u001b[38;5;34m32\u001b[0m, \u001b[38;5;34m126\u001b[0m)    │           \u001b[38;5;34m504\u001b[0m │\n",
              "│ (\u001b[38;5;33mBatchNormalization\u001b[0m)            │                        │               │\n",
              "├─────────────────────────────────┼────────────────────────┼───────────────┤\n",
              "│ max_pooling2d_19 (\u001b[38;5;33mMaxPooling2D\u001b[0m) │ (\u001b[38;5;45mNone\u001b[0m, \u001b[38;5;34m16\u001b[0m, \u001b[38;5;34m16\u001b[0m, \u001b[38;5;34m126\u001b[0m)    │             \u001b[38;5;34m0\u001b[0m │\n",
              "├─────────────────────────────────┼────────────────────────┼───────────────┤\n",
              "│ dense_30 (\u001b[38;5;33mDense\u001b[0m)                │ (\u001b[38;5;45mNone\u001b[0m, \u001b[38;5;34m16\u001b[0m, \u001b[38;5;34m16\u001b[0m, \u001b[38;5;34m10\u001b[0m)     │         \u001b[38;5;34m1,270\u001b[0m │\n",
              "└─────────────────────────────────┴────────────────────────┴───────────────┘\n"
            ],
            "text/html": [
              "<pre style=\"white-space:pre;overflow-x:auto;line-height:normal;font-family:Menlo,'DejaVu Sans Mono',consolas,'Courier New',monospace\">┏━━━━━━━━━━━━━━━━━━━━━━━━━━━━━━━━━┳━━━━━━━━━━━━━━━━━━━━━━━━┳━━━━━━━━━━━━━━━┓\n",
              "┃<span style=\"font-weight: bold\"> Layer (type)                    </span>┃<span style=\"font-weight: bold\"> Output Shape           </span>┃<span style=\"font-weight: bold\">       Param # </span>┃\n",
              "┡━━━━━━━━━━━━━━━━━━━━━━━━━━━━━━━━━╇━━━━━━━━━━━━━━━━━━━━━━━━╇━━━━━━━━━━━━━━━┩\n",
              "│ conv2d_31 (<span style=\"color: #0087ff; text-decoration-color: #0087ff\">Conv2D</span>)              │ (<span style=\"color: #00d7ff; text-decoration-color: #00d7ff\">None</span>, <span style=\"color: #00af00; text-decoration-color: #00af00\">32</span>, <span style=\"color: #00af00; text-decoration-color: #00af00\">32</span>, <span style=\"color: #00af00; text-decoration-color: #00af00\">126</span>)    │         <span style=\"color: #00af00; text-decoration-color: #00af00\">3,528</span> │\n",
              "├─────────────────────────────────┼────────────────────────┼───────────────┤\n",
              "│ batch_normalization_31          │ (<span style=\"color: #00d7ff; text-decoration-color: #00d7ff\">None</span>, <span style=\"color: #00af00; text-decoration-color: #00af00\">32</span>, <span style=\"color: #00af00; text-decoration-color: #00af00\">32</span>, <span style=\"color: #00af00; text-decoration-color: #00af00\">126</span>)    │           <span style=\"color: #00af00; text-decoration-color: #00af00\">504</span> │\n",
              "│ (<span style=\"color: #0087ff; text-decoration-color: #0087ff\">BatchNormalization</span>)            │                        │               │\n",
              "├─────────────────────────────────┼────────────────────────┼───────────────┤\n",
              "│ conv2d_32 (<span style=\"color: #0087ff; text-decoration-color: #0087ff\">Conv2D</span>)              │ (<span style=\"color: #00d7ff; text-decoration-color: #00d7ff\">None</span>, <span style=\"color: #00af00; text-decoration-color: #00af00\">32</span>, <span style=\"color: #00af00; text-decoration-color: #00af00\">32</span>, <span style=\"color: #00af00; text-decoration-color: #00af00\">126</span>)    │       <span style=\"color: #00af00; text-decoration-color: #00af00\">143,010</span> │\n",
              "├─────────────────────────────────┼────────────────────────┼───────────────┤\n",
              "│ batch_normalization_32          │ (<span style=\"color: #00d7ff; text-decoration-color: #00d7ff\">None</span>, <span style=\"color: #00af00; text-decoration-color: #00af00\">32</span>, <span style=\"color: #00af00; text-decoration-color: #00af00\">32</span>, <span style=\"color: #00af00; text-decoration-color: #00af00\">126</span>)    │           <span style=\"color: #00af00; text-decoration-color: #00af00\">504</span> │\n",
              "│ (<span style=\"color: #0087ff; text-decoration-color: #0087ff\">BatchNormalization</span>)            │                        │               │\n",
              "├─────────────────────────────────┼────────────────────────┼───────────────┤\n",
              "│ max_pooling2d_19 (<span style=\"color: #0087ff; text-decoration-color: #0087ff\">MaxPooling2D</span>) │ (<span style=\"color: #00d7ff; text-decoration-color: #00d7ff\">None</span>, <span style=\"color: #00af00; text-decoration-color: #00af00\">16</span>, <span style=\"color: #00af00; text-decoration-color: #00af00\">16</span>, <span style=\"color: #00af00; text-decoration-color: #00af00\">126</span>)    │             <span style=\"color: #00af00; text-decoration-color: #00af00\">0</span> │\n",
              "├─────────────────────────────────┼────────────────────────┼───────────────┤\n",
              "│ dense_30 (<span style=\"color: #0087ff; text-decoration-color: #0087ff\">Dense</span>)                │ (<span style=\"color: #00d7ff; text-decoration-color: #00d7ff\">None</span>, <span style=\"color: #00af00; text-decoration-color: #00af00\">16</span>, <span style=\"color: #00af00; text-decoration-color: #00af00\">16</span>, <span style=\"color: #00af00; text-decoration-color: #00af00\">10</span>)     │         <span style=\"color: #00af00; text-decoration-color: #00af00\">1,270</span> │\n",
              "└─────────────────────────────────┴────────────────────────┴───────────────┘\n",
              "</pre>\n"
            ]
          },
          "metadata": {}
        },
        {
          "output_type": "display_data",
          "data": {
            "text/plain": [
              "\u001b[1m Total params: \u001b[0m\u001b[38;5;34m148,816\u001b[0m (581.31 KB)\n"
            ],
            "text/html": [
              "<pre style=\"white-space:pre;overflow-x:auto;line-height:normal;font-family:Menlo,'DejaVu Sans Mono',consolas,'Courier New',monospace\"><span style=\"font-weight: bold\"> Total params: </span><span style=\"color: #00af00; text-decoration-color: #00af00\">148,816</span> (581.31 KB)\n",
              "</pre>\n"
            ]
          },
          "metadata": {}
        },
        {
          "output_type": "display_data",
          "data": {
            "text/plain": [
              "\u001b[1m Trainable params: \u001b[0m\u001b[38;5;34m148,312\u001b[0m (579.34 KB)\n"
            ],
            "text/html": [
              "<pre style=\"white-space:pre;overflow-x:auto;line-height:normal;font-family:Menlo,'DejaVu Sans Mono',consolas,'Courier New',monospace\"><span style=\"font-weight: bold\"> Trainable params: </span><span style=\"color: #00af00; text-decoration-color: #00af00\">148,312</span> (579.34 KB)\n",
              "</pre>\n"
            ]
          },
          "metadata": {}
        },
        {
          "output_type": "display_data",
          "data": {
            "text/plain": [
              "\u001b[1m Non-trainable params: \u001b[0m\u001b[38;5;34m504\u001b[0m (1.97 KB)\n"
            ],
            "text/html": [
              "<pre style=\"white-space:pre;overflow-x:auto;line-height:normal;font-family:Menlo,'DejaVu Sans Mono',consolas,'Courier New',monospace\"><span style=\"font-weight: bold\"> Non-trainable params: </span><span style=\"color: #00af00; text-decoration-color: #00af00\">504</span> (1.97 KB)\n",
              "</pre>\n"
            ]
          },
          "metadata": {}
        },
        {
          "output_type": "stream",
          "name": "stderr",
          "text": [
            "/usr/local/lib/python3.11/dist-packages/keras/src/saving/saving_lib.py:757: UserWarning: Skipping variable loading for optimizer 'adam', because it has 22 variables whereas the saved optimizer has 34 variables. \n",
            "  saveable.load_own_variables(weights_store.get(inner_path))\n"
          ]
        },
        {
          "output_type": "error",
          "ename": "ValueError",
          "evalue": "A total of 5 objects could not be loaded. Example error message for object <Conv2D name=conv2d_31, built=True>:\n\nThe shape of the target variable and the shape of the target value in `variable.assign(value)` must match. variable.shape=(3, 3, 3, 126), Received: value.shape=(3, 3, 3, 247). Target variable: <Variable path=sequential_15/conv2d_31/kernel, shape=(3, 3, 3, 126), dtype=float32, value=[[[[-4.80524115e-02 -2.93411054e-02 -3.35196406e-03 ...  1.84877217e-03\n     4.70758528e-02  4.60872427e-02]\n   [ 2.17325985e-03  2.47298479e-02 -6.91580474e-02 ... -4.57218960e-02\n    -4.60505970e-02  6.40663281e-02]\n   [ 3.68619412e-02 -6.89198896e-02 -7.05099106e-02 ... -4.31898013e-02\n    -6.04745448e-02  3.23898196e-02]]\n\n  [[-6.12484477e-02 -6.46948367e-02  3.59126180e-02 ... -5.14019430e-02\n     3.26123759e-02  5.03309816e-03]\n   [-1.07288361e-05  2.90596560e-02  2.47314200e-02 ... -2.06970423e-03\n    -6.62957877e-03 -3.32197361e-02]\n   [-2.04419717e-02 -1.11835450e-02  5.38839921e-02 ... -1.55257657e-02\n    -1.17976554e-02  8.71450454e-03]]\n\n  [[-6.25946075e-02 -6.72360510e-03  2.60716826e-02 ... -4.12239581e-02\n     5.29167056e-03  1.27331689e-02]\n   [-6.18173443e-02  5.57907298e-02 -7.93856382e-03 ...  9.97266918e-03\n     6.35691509e-02 -5.94693273e-02]\n   [ 3.53733003e-02  2.34482512e-02  1.89995617e-02 ...  9.80929285e-03\n     5.27787656e-02  3.73189375e-02]]]\n\n\n [[[ 6.81128576e-02  5.88185340e-03  1.87355727e-02 ... -1.32705085e-02\n     2.56649405e-03 -2.02448666e-03]\n   [ 4.91057560e-02  1.25630200e-02  5.31048626e-02 ... -3.41152102e-02\n    -5.16903847e-02  4.78915572e-02]\n   [-6.69721887e-02 -6.35491610e-02 -4.58180308e-02 ... -6.55005649e-02\n    -4.31441888e-02 -5.80032952e-02]]\n\n  [[ 4.08440456e-02 -5.95939308e-02  6.57287315e-02 ... -4.07005176e-02\n     4.12704796e-02  2.41778344e-02]\n   [ 2.17867047e-02  5.94920591e-02  1.69422477e-02 ...  7.01995715e-02\n    -2.54891776e-02 -4.93820459e-02]\n   [ 1.87237635e-02 -5.69837317e-02 -1.41002163e-02 ... -5.43233976e-02\n    -2.72933915e-02 -2.90638059e-02]]\n\n  [[-1.91581696e-02 -1.18402801e-02 -1.29062049e-02 ...  1.41181052e-04\n    -4.31766026e-02 -3.08976360e-02]\n   [ 4.76697907e-02 -6.54049963e-02 -5.56966364e-02 ...  7.10601583e-02\n    -6.99600875e-02  9.47654992e-03]\n   [ 6.30668923e-02 -3.33306193e-03  6.33179471e-02 ... -2.40688585e-02\n     2.94166580e-02 -3.13432962e-02]]]\n\n\n [[[-4.25112769e-02  1.07590109e-02 -2.08600610e-03 ... -2.31502801e-02\n     6.07054159e-02 -6.36416450e-02]\n   [ 1.53166428e-02 -7.00282231e-02  1.83297619e-02 ...  6.81369975e-02\n     1.23188496e-02 -6.19383901e-03]\n   [ 7.06806853e-02  2.72978991e-02  2.47818604e-02 ...  5.03923371e-02\n    -4.69606221e-02  1.23489127e-02]]\n\n  [[ 5.51109537e-02 -4.96840291e-02  3.33373323e-02 ...  2.38750875e-03\n     5.96396551e-02 -2.22239383e-02]\n   [ 5.47002256e-03 -4.00903150e-02 -6.93257526e-02 ...  3.77395079e-02\n    -6.52501062e-02 -1.47185959e-02]\n   [ 4.39827964e-02  6.49894699e-02  4.41658124e-02 ... -5.66090792e-02\n    -4.93559428e-02 -2.83114612e-03]]\n\n  [[-4.50837389e-02 -1.02709122e-02  3.84136587e-02 ...  8.67076218e-04\n     3.37040126e-02 -3.52542363e-02]\n   [-1.21189691e-02 -4.04987670e-02 -4.02019285e-02 ...  1.54880434e-02\n    -3.62825729e-02 -2.23554336e-02]\n   [-2.32554972e-03 -5.84708899e-03  3.03547904e-02 ... -5.57920523e-02\n    -4.80424874e-02  6.90218434e-02]]]]>\n\nList of objects that could not be loaded:\n[<Conv2D name=conv2d_31, built=True>, <BatchNormalization name=batch_normalization_31, built=True>, <Conv2D name=conv2d_32, built=True>, <BatchNormalization name=batch_normalization_32, built=True>, <Dense name=dense_30, built=True>]",
          "traceback": [
            "\u001b[0;31m---------------------------------------------------------------------------\u001b[0m",
            "\u001b[0;31mValueError\u001b[0m                                Traceback (most recent call last)",
            "\u001b[0;32m<ipython-input-41-1e2c2b015e9d>\u001b[0m in \u001b[0;36m<cell line: 0>\u001b[0;34m()\u001b[0m\n\u001b[0;32m----> 1\u001b[0;31m \u001b[0mbest_f\u001b[0m\u001b[0;34m,\u001b[0m \u001b[0mbest_d\u001b[0m \u001b[0;34m=\u001b[0m \u001b[0mDE\u001b[0m\u001b[0;34m(\u001b[0m\u001b[0;36m2\u001b[0m\u001b[0;34m,\u001b[0m \u001b[0;36m4\u001b[0m\u001b[0;34m,\u001b[0m \u001b[0mfunc\u001b[0m\u001b[0;34m,\u001b[0m \u001b[0mfunc_limits\u001b[0m\u001b[0;34m)\u001b[0m\u001b[0;34m\u001b[0m\u001b[0;34m\u001b[0m\u001b[0m\n\u001b[0m",
            "\u001b[0;32m<ipython-input-40-73c5585355eb>\u001b[0m in \u001b[0;36mDE\u001b[0;34m(pop_size, iterations, function, limits)\u001b[0m\n\u001b[1;32m     11\u001b[0m     \u001b[0mbest_pop\u001b[0m \u001b[0;34m=\u001b[0m \u001b[0mnp\u001b[0m\u001b[0;34m.\u001b[0m\u001b[0mzeros\u001b[0m\u001b[0;34m(\u001b[0m\u001b[0mdim\u001b[0m\u001b[0;34m)\u001b[0m\u001b[0;34m\u001b[0m\u001b[0;34m\u001b[0m\u001b[0m\n\u001b[1;32m     12\u001b[0m \u001b[0;34m\u001b[0m\u001b[0m\n\u001b[0;32m---> 13\u001b[0;31m     \u001b[0mfitness\u001b[0m \u001b[0;34m=\u001b[0m \u001b[0mnp\u001b[0m\u001b[0;34m.\u001b[0m\u001b[0marray\u001b[0m\u001b[0;34m(\u001b[0m\u001b[0;34m[\u001b[0m\u001b[0mfunction\u001b[0m\u001b[0;34m(\u001b[0m\u001b[0mX\u001b[0m\u001b[0;34m)\u001b[0m \u001b[0;32mfor\u001b[0m \u001b[0mX\u001b[0m \u001b[0;32min\u001b[0m \u001b[0mpopulation\u001b[0m\u001b[0;34m]\u001b[0m\u001b[0;34m)\u001b[0m\u001b[0;34m\u001b[0m\u001b[0;34m\u001b[0m\u001b[0m\n\u001b[0m\u001b[1;32m     14\u001b[0m     for iteration in tqdm(\n\u001b[1;32m     15\u001b[0m         \u001b[0mrange\u001b[0m\u001b[0;34m(\u001b[0m\u001b[0miterations\u001b[0m\u001b[0;34m)\u001b[0m\u001b[0;34m,\u001b[0m\u001b[0;34m\u001b[0m\u001b[0;34m\u001b[0m\u001b[0m\n",
            "\u001b[0;32m<ipython-input-40-73c5585355eb>\u001b[0m in \u001b[0;36m<listcomp>\u001b[0;34m(.0)\u001b[0m\n\u001b[1;32m     11\u001b[0m     \u001b[0mbest_pop\u001b[0m \u001b[0;34m=\u001b[0m \u001b[0mnp\u001b[0m\u001b[0;34m.\u001b[0m\u001b[0mzeros\u001b[0m\u001b[0;34m(\u001b[0m\u001b[0mdim\u001b[0m\u001b[0;34m)\u001b[0m\u001b[0;34m\u001b[0m\u001b[0;34m\u001b[0m\u001b[0m\n\u001b[1;32m     12\u001b[0m \u001b[0;34m\u001b[0m\u001b[0m\n\u001b[0;32m---> 13\u001b[0;31m     \u001b[0mfitness\u001b[0m \u001b[0;34m=\u001b[0m \u001b[0mnp\u001b[0m\u001b[0;34m.\u001b[0m\u001b[0marray\u001b[0m\u001b[0;34m(\u001b[0m\u001b[0;34m[\u001b[0m\u001b[0mfunction\u001b[0m\u001b[0;34m(\u001b[0m\u001b[0mX\u001b[0m\u001b[0;34m)\u001b[0m \u001b[0;32mfor\u001b[0m \u001b[0mX\u001b[0m \u001b[0;32min\u001b[0m \u001b[0mpopulation\u001b[0m\u001b[0;34m]\u001b[0m\u001b[0;34m)\u001b[0m\u001b[0;34m\u001b[0m\u001b[0;34m\u001b[0m\u001b[0m\n\u001b[0m\u001b[1;32m     14\u001b[0m     for iteration in tqdm(\n\u001b[1;32m     15\u001b[0m         \u001b[0mrange\u001b[0m\u001b[0;34m(\u001b[0m\u001b[0miterations\u001b[0m\u001b[0;34m)\u001b[0m\u001b[0;34m,\u001b[0m\u001b[0;34m\u001b[0m\u001b[0;34m\u001b[0m\u001b[0m\n",
            "\u001b[0;32m<ipython-input-40-73c5585355eb>\u001b[0m in \u001b[0;36mfunc\u001b[0;34m(X)\u001b[0m\n\u001b[1;32m     85\u001b[0m                 \u001b[0mloss\u001b[0m\u001b[0;34m=\u001b[0m\u001b[0mtf\u001b[0m\u001b[0;34m.\u001b[0m\u001b[0mkeras\u001b[0m\u001b[0;34m.\u001b[0m\u001b[0mlosses\u001b[0m\u001b[0;34m.\u001b[0m\u001b[0mCategoricalCrossentropy\u001b[0m\u001b[0;34m(\u001b[0m\u001b[0;34m)\u001b[0m\u001b[0;34m,\u001b[0m\u001b[0;34m\u001b[0m\u001b[0;34m\u001b[0m\u001b[0m\n\u001b[1;32m     86\u001b[0m                 metrics=['accuracy', tf.keras.metrics.TopKCategoricalAccuracy(k=2, name=\"Top2\")])\n\u001b[0;32m---> 87\u001b[0;31m     \u001b[0mhistory\u001b[0m \u001b[0;34m=\u001b[0m \u001b[0mmodel\u001b[0m\u001b[0;34m.\u001b[0m\u001b[0mfit\u001b[0m\u001b[0;34m(\u001b[0m\u001b[0mx_train\u001b[0m\u001b[0;34m,\u001b[0m \u001b[0my_train\u001b[0m\u001b[0;34m,\u001b[0m \u001b[0mbatch_size\u001b[0m\u001b[0;34m=\u001b[0m\u001b[0;36m128\u001b[0m\u001b[0;34m,\u001b[0m \u001b[0mepochs\u001b[0m\u001b[0;34m=\u001b[0m\u001b[0;36m100\u001b[0m\u001b[0;34m,\u001b[0m \u001b[0mvalidation_data\u001b[0m\u001b[0;34m=\u001b[0m\u001b[0;34m(\u001b[0m\u001b[0mx_val\u001b[0m\u001b[0;34m,\u001b[0m \u001b[0my_val\u001b[0m\u001b[0;34m)\u001b[0m\u001b[0;34m,\u001b[0m \u001b[0mcallbacks\u001b[0m\u001b[0;34m=\u001b[0m\u001b[0mcallbacks\u001b[0m\u001b[0;34m)\u001b[0m\u001b[0;34m\u001b[0m\u001b[0;34m\u001b[0m\u001b[0m\n\u001b[0m\u001b[1;32m     88\u001b[0m     \u001b[0mindex\u001b[0m \u001b[0;34m=\u001b[0m \u001b[0mnp\u001b[0m\u001b[0;34m.\u001b[0m\u001b[0margmax\u001b[0m\u001b[0;34m(\u001b[0m\u001b[0mhistory\u001b[0m\u001b[0;34m.\u001b[0m\u001b[0mhistory\u001b[0m\u001b[0;34m[\u001b[0m\u001b[0;34m'val_accuracy'\u001b[0m\u001b[0;34m]\u001b[0m\u001b[0;34m)\u001b[0m\u001b[0;34m\u001b[0m\u001b[0;34m\u001b[0m\u001b[0m\n\u001b[1;32m     89\u001b[0m     \u001b[0;32mreturn\u001b[0m \u001b[0;34m(\u001b[0m\u001b[0;36m1.0\u001b[0m \u001b[0;34m-\u001b[0m \u001b[0mhistory\u001b[0m\u001b[0;34m.\u001b[0m\u001b[0mhistory\u001b[0m\u001b[0;34m[\u001b[0m\u001b[0;34m'val_accuracy'\u001b[0m\u001b[0;34m]\u001b[0m\u001b[0;34m[\u001b[0m\u001b[0mindex\u001b[0m\u001b[0;34m]\u001b[0m\u001b[0;34m)\u001b[0m \u001b[0;34m+\u001b[0m \u001b[0mhistory\u001b[0m\u001b[0;34m.\u001b[0m\u001b[0mhistory\u001b[0m\u001b[0;34m[\u001b[0m\u001b[0;34m'val_loss'\u001b[0m\u001b[0;34m]\u001b[0m\u001b[0;34m[\u001b[0m\u001b[0mindex\u001b[0m\u001b[0;34m]\u001b[0m\u001b[0;34m\u001b[0m\u001b[0;34m\u001b[0m\u001b[0m\n",
            "\u001b[0;32m/usr/local/lib/python3.11/dist-packages/keras/src/utils/traceback_utils.py\u001b[0m in \u001b[0;36merror_handler\u001b[0;34m(*args, **kwargs)\u001b[0m\n\u001b[1;32m    120\u001b[0m             \u001b[0;31m# To get the full stack trace, call:\u001b[0m\u001b[0;34m\u001b[0m\u001b[0;34m\u001b[0m\u001b[0m\n\u001b[1;32m    121\u001b[0m             \u001b[0;31m# `keras.config.disable_traceback_filtering()`\u001b[0m\u001b[0;34m\u001b[0m\u001b[0;34m\u001b[0m\u001b[0m\n\u001b[0;32m--> 122\u001b[0;31m             \u001b[0;32mraise\u001b[0m \u001b[0me\u001b[0m\u001b[0;34m.\u001b[0m\u001b[0mwith_traceback\u001b[0m\u001b[0;34m(\u001b[0m\u001b[0mfiltered_tb\u001b[0m\u001b[0;34m)\u001b[0m \u001b[0;32mfrom\u001b[0m \u001b[0;32mNone\u001b[0m\u001b[0;34m\u001b[0m\u001b[0;34m\u001b[0m\u001b[0m\n\u001b[0m\u001b[1;32m    123\u001b[0m         \u001b[0;32mfinally\u001b[0m\u001b[0;34m:\u001b[0m\u001b[0;34m\u001b[0m\u001b[0;34m\u001b[0m\u001b[0m\n\u001b[1;32m    124\u001b[0m             \u001b[0;32mdel\u001b[0m \u001b[0mfiltered_tb\u001b[0m\u001b[0;34m\u001b[0m\u001b[0;34m\u001b[0m\u001b[0m\n",
            "\u001b[0;32m/usr/local/lib/python3.11/dist-packages/keras/src/saving/saving_lib.py\u001b[0m in \u001b[0;36m_raise_loading_failure\u001b[0;34m(error_msgs, warn_only)\u001b[0m\n\u001b[1;32m    629\u001b[0m         \u001b[0mwarnings\u001b[0m\u001b[0;34m.\u001b[0m\u001b[0mwarn\u001b[0m\u001b[0;34m(\u001b[0m\u001b[0mmsg\u001b[0m\u001b[0;34m)\u001b[0m\u001b[0;34m\u001b[0m\u001b[0;34m\u001b[0m\u001b[0m\n\u001b[1;32m    630\u001b[0m     \u001b[0;32melse\u001b[0m\u001b[0;34m:\u001b[0m\u001b[0;34m\u001b[0m\u001b[0;34m\u001b[0m\u001b[0m\n\u001b[0;32m--> 631\u001b[0;31m         \u001b[0;32mraise\u001b[0m \u001b[0mValueError\u001b[0m\u001b[0;34m(\u001b[0m\u001b[0mmsg\u001b[0m\u001b[0;34m)\u001b[0m\u001b[0;34m\u001b[0m\u001b[0;34m\u001b[0m\u001b[0m\n\u001b[0m\u001b[1;32m    632\u001b[0m \u001b[0;34m\u001b[0m\u001b[0m\n\u001b[1;32m    633\u001b[0m \u001b[0;34m\u001b[0m\u001b[0m\n",
            "\u001b[0;31mValueError\u001b[0m: A total of 5 objects could not be loaded. Example error message for object <Conv2D name=conv2d_31, built=True>:\n\nThe shape of the target variable and the shape of the target value in `variable.assign(value)` must match. variable.shape=(3, 3, 3, 126), Received: value.shape=(3, 3, 3, 247). Target variable: <Variable path=sequential_15/conv2d_31/kernel, shape=(3, 3, 3, 126), dtype=float32, value=[[[[-4.80524115e-02 -2.93411054e-02 -3.35196406e-03 ...  1.84877217e-03\n     4.70758528e-02  4.60872427e-02]\n   [ 2.17325985e-03  2.47298479e-02 -6.91580474e-02 ... -4.57218960e-02\n    -4.60505970e-02  6.40663281e-02]\n   [ 3.68619412e-02 -6.89198896e-02 -7.05099106e-02 ... -4.31898013e-02\n    -6.04745448e-02  3.23898196e-02]]\n\n  [[-6.12484477e-02 -6.46948367e-02  3.59126180e-02 ... -5.14019430e-02\n     3.26123759e-02  5.03309816e-03]\n   [-1.07288361e-05  2.90596560e-02  2.47314200e-02 ... -2.06970423e-03\n    -6.62957877e-03 -3.32197361e-02]\n   [-2.04419717e-02 -1.11835450e-02  5.38839921e-02 ... -1.55257657e-02\n    -1.17976554e-02  8.71450454e-03]]\n\n  [[-6.25946075e-02 -6.72360510e-03  2.60716826e-02 ... -4.12239581e-02\n     5.29167056e-03  1.27331689e-02]\n   [-6.18173443e-02  5.57907298e-02 -7.93856382e-03 ...  9.97266918e-03\n     6.35691509e-02 -5.94693273e-02]\n   [ 3.53733003e-02  2.34482512e-02  1.89995617e-02 ...  9.80929285e-03\n     5.27787656e-02  3.73189375e-02]]]\n\n\n [[[ 6.81128576e-02  5.88185340e-03  1.87355727e-02 ... -1.32705085e-02\n     2.56649405e-03 -2.02448666e-03]\n   [ 4.91057560e-02  1.25630200e-02  5.31048626e-02 ... -3.41152102e-02\n    -5.16903847e-02  4.78915572e-02]\n   [-6.69721887e-02 -6.35491610e-02 -4.58180308e-02 ... -6.55005649e-02\n    -4.31441888e-02 -5.80032952e-02]]\n\n  [[ 4.08440456e-02 -5.95939308e-02  6.57287315e-02 ... -4.07005176e-02\n     4.12704796e-02  2.41778344e-02]\n   [ 2.17867047e-02  5.94920591e-02  1.69422477e-02 ...  7.01995715e-02\n    -2.54891776e-02 -4.93820459e-02]\n   [ 1.87237635e-02 -5.69837317e-02 -1.41002163e-02 ... -5.43233976e-02\n    -2.72933915e-02 -2.90638059e-02]]\n\n  [[-1.91581696e-02 -1.18402801e-02 -1.29062049e-02 ...  1.41181052e-04\n    -4.31766026e-02 -3.08976360e-02]\n   [ 4.76697907e-02 -6.54049963e-02 -5.56966364e-02 ...  7.10601583e-02\n    -6.99600875e-02  9.47654992e-03]\n   [ 6.30668923e-02 -3.33306193e-03  6.33179471e-02 ... -2.40688585e-02\n     2.94166580e-02 -3.13432962e-02]]]\n\n\n [[[-4.25112769e-02  1.07590109e-02 -2.08600610e-03 ... -2.31502801e-02\n     6.07054159e-02 -6.36416450e-02]\n   [ 1.53166428e-02 -7.00282231e-02  1.83297619e-02 ...  6.81369975e-02\n     1.23188496e-02 -6.19383901e-03]\n   [ 7.06806853e-02  2.72978991e-02  2.47818604e-02 ...  5.03923371e-02\n    -4.69606221e-02  1.23489127e-02]]\n\n  [[ 5.51109537e-02 -4.96840291e-02  3.33373323e-02 ...  2.38750875e-03\n     5.96396551e-02 -2.22239383e-02]\n   [ 5.47002256e-03 -4.00903150e-02 -6.93257526e-02 ...  3.77395079e-02\n    -6.52501062e-02 -1.47185959e-02]\n   [ 4.39827964e-02  6.49894699e-02  4.41658124e-02 ... -5.66090792e-02\n    -4.93559428e-02 -2.83114612e-03]]\n\n  [[-4.50837389e-02 -1.02709122e-02  3.84136587e-02 ...  8.67076218e-04\n     3.37040126e-02 -3.52542363e-02]\n   [-1.21189691e-02 -4.04987670e-02 -4.02019285e-02 ...  1.54880434e-02\n    -3.62825729e-02 -2.23554336e-02]\n   [-2.32554972e-03 -5.84708899e-03  3.03547904e-02 ... -5.57920523e-02\n    -4.80424874e-02  6.90218434e-02]]]]>\n\nList of objects that could not be loaded:\n[<Conv2D name=conv2d_31, built=True>, <BatchNormalization name=batch_normalization_31, built=True>, <Conv2D name=conv2d_32, built=True>, <BatchNormalization name=batch_normalization_32, built=True>, <Dense name=dense_30, built=True>]"
          ]
        }
      ],
      "source": [
        "best_f, best_d = DE(2, 4, func, func_limits)"
      ]
    },
    {
      "cell_type": "code",
      "execution_count": null,
      "id": "435a1640",
      "metadata": {
        "id": "435a1640"
      },
      "outputs": [],
      "source": [
        "# model = tf.keras.models.Sequential(\n",
        "#     [\n",
        "#         layers.Input(shape=(32, 32, 3)),\n",
        "\n",
        "#         data_augmentation,\n",
        "\n",
        "#         layers.Conv2D(128, (3, 3), activation='relu', padding='same'),\n",
        "#         layers.BatchNormalization(),\n",
        "#         layers.MaxPooling2D(2, 2),\n",
        "\n",
        "#         layers.Conv2D(256, (3, 3), activation='relu', padding='same'),\n",
        "#         layers.BatchNormalization(),\n",
        "#         layers.MaxPooling2D(2, 2),\n",
        "#         layers.Dropout(0.3),\n",
        "\n",
        "#         layers.Conv2D(512, (3, 3), activation='relu', padding='same'),\n",
        "#         layers.BatchNormalization(),\n",
        "#         layers.MaxPooling2D(4, 4),\n",
        "#         layers.Dropout(0.4),\n",
        "\n",
        "#         layers.Flatten(),\n",
        "#         layers.Dense(1024, activation='relu'),\n",
        "#         layers.Dropout(0.5),\n",
        "#         layers.Dense(y_test.shape[1], activation='softmax')\n",
        "#     ]\n",
        "# )\n",
        "\n",
        "# model.summary()\n",
        "# model.compile(optimizer=tf.keras.optimizers.Adam(learning_rate=0.001),\n",
        "#               loss=tf.keras.losses.CategoricalCrossentropy(),\n",
        "#               metrics=['accuracy', tf.keras.metrics.TopKCategoricalAccuracy(k=2, name=\"Top2\")])"
      ]
    },
    {
      "cell_type": "code",
      "execution_count": null,
      "id": "4f83acd0",
      "metadata": {
        "id": "4f83acd0"
      },
      "outputs": [],
      "source": [
        "# history = model.fit(x_train, y_train, batch_size=128, epochs=100, validation_data=(x_val, y_val), callbacks=callbacks)"
      ]
    }
  ],
  "metadata": {
    "accelerator": "GPU",
    "colab": {
      "gpuType": "T4",
      "provenance": [],
      "include_colab_link": true
    },
    "kernelspec": {
      "display_name": ".env",
      "language": "python",
      "name": "python3"
    },
    "language_info": {
      "codemirror_mode": {
        "name": "ipython",
        "version": 3
      },
      "file_extension": ".py",
      "mimetype": "text/x-python",
      "name": "python",
      "nbconvert_exporter": "python",
      "pygments_lexer": "ipython3",
      "version": "3.12.3"
    }
  },
  "nbformat": 4,
  "nbformat_minor": 5
}