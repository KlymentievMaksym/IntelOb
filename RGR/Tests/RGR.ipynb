{
 "cells": [
  {
   "cell_type": "code",
   "execution_count": 1,
   "id": "5ac0156d",
   "metadata": {},
   "outputs": [
    {
     "name": "stderr",
     "output_type": "stream",
     "text": [
      "d:\\GitHub\\IntelOb\\.music\\Lib\\site-packages\\pretty_midi\\instrument.py:11: UserWarning: pkg_resources is deprecated as an API. See https://setuptools.pypa.io/en/latest/pkg_resources.html. The pkg_resources package is slated for removal as early as 2025-11-30. Refrain from using this package or pin to Setuptools<81.\n",
      "  import pkg_resources\n"
     ]
    }
   ],
   "source": [
    "import pretty_midi as pm\n",
    "# import soundfile as sf\n",
    "import os\n",
    "import music21 as m21"
   ]
  },
  {
   "cell_type": "code",
   "execution_count": 2,
   "id": "b3617806",
   "metadata": {},
   "outputs": [],
   "source": [
    "def pretty_midi_to_music21(pm: pm.PrettyMIDI) -> m21.stream.Score:\n",
    "    score = m21.stream.Score()\n",
    "    part_streams = []\n",
    "\n",
    "    # Use first time signature and tempo as defaults\n",
    "    ts_changes = pm.time_signature_changes\n",
    "    tempo_changes, tempi = pm.get_tempo_changes()\n",
    "\n",
    "    global_ts = ts_changes[0] if ts_changes else None\n",
    "    global_tempo = tempi[0] if len(tempi) > 0 else 120\n",
    "\n",
    "    for inst in pm.instruments:\n",
    "        part = m21.stream.Part()\n",
    "\n",
    "        # Set part name\n",
    "        if inst.name:\n",
    "            part.id = inst.name\n",
    "        else:\n",
    "            inst_name = pm.program_to_instrument_name(inst.program)\n",
    "            part.id = inst_name\n",
    "\n",
    "        # Set instrument\n",
    "        if inst.is_drum:\n",
    "            m21_inst = m21.instrument.UnpitchedPercussion()\n",
    "        else:\n",
    "            # Try to get instrument by name\n",
    "            try:\n",
    "                inst_name = pm.program_to_instrument_name(inst.program)\n",
    "                m21_inst = m21.instrument.fromString(inst_name)\n",
    "            except:\n",
    "                m21_inst = m21.instrument.Instrument()\n",
    "\n",
    "        part.append(m21_inst)\n",
    "\n",
    "        # Add global time signature and tempo\n",
    "        if global_ts:\n",
    "            ts = m21.meter.TimeSignature(f\"{global_ts.numerator}/{global_ts.denominator}\")\n",
    "            part.append(ts)\n",
    "\n",
    "        part.append(m21.tempo.MetronomeMark(number=global_tempo))\n",
    "\n",
    "        for n in inst.notes:\n",
    "            m21_note = m21.note.Note(n.pitch)\n",
    "            m21_note.quarterLength = n.end - n.start\n",
    "            m21_note.offset = n.start\n",
    "            m21_note.volume.velocity = n.velocity\n",
    "            part.append(m21_note)\n",
    "\n",
    "        part_streams.append(part)\n",
    "\n",
    "    for p in part_streams:\n",
    "        score.append(p)\n",
    "\n",
    "    return score\n"
   ]
  },
  {
   "cell_type": "code",
   "execution_count": 3,
   "id": "d0c1884e",
   "metadata": {},
   "outputs": [
    {
     "data": {
      "text/plain": [
       "['GeneticAlg', 'RGR.ipynb', 'RGR.py', 'RGR_.ipynb']"
      ]
     },
     "execution_count": 3,
     "metadata": {},
     "output_type": "execute_result"
    }
   ],
   "source": [
    "os.listdir(\".\")"
   ]
  },
  {
   "cell_type": "code",
   "execution_count": 5,
   "id": "19a6497b",
   "metadata": {},
   "outputs": [],
   "source": [
    "SAMPLING_RATE = 44100\n",
    "SECONDS = 15\n",
    "filename = \"../Music/Beethoven-Moonlight-Sonata\"\n",
    "midi_file = filename + \".mid\"\n",
    "mp3_file = filename + \".mp3\"\n",
    "midi = pm.PrettyMIDI(midi_file)\n",
    "# midi = pretty_midi_to_music21(midi)"
   ]
  },
  {
   "cell_type": "code",
   "execution_count": 13,
   "id": "873375cd",
   "metadata": {},
   "outputs": [
    {
     "name": "stdout",
     "output_type": "stream",
     "text": [
      "1st Mvmt Sonata No.14, Opus 27, No.2\n"
     ]
    }
   ],
   "source": [
    "print(midi.instruments[0].name)\n",
    "# dir(midi.instruments[0].program)\n",
    "# 'duration',\n",
    "# 'end',\n",
    "# 'get_duration',\n",
    "# 'pitch',\n",
    "# 'start',\n",
    "# 'velocity']\n",
    "\n",
    "# 'control_changes',\n",
    "# 'fluidsynth',\n",
    "# 'get_chroma',\n",
    "# 'get_end_time',\n",
    "# 'get_onsets',\n",
    "# 'get_piano_roll',\n",
    "# 'get_pitch_class_histogram',\n",
    "# 'get_pitch_class_transition_matrix',\n",
    "# 'is_drum',\n",
    "# 'name',\n",
    "# 'notes',\n",
    "# 'pitch_bends',\n",
    "# 'program',\n",
    "# 'remove_invalid_notes',\n",
    "# 'synthesize']"
   ]
  },
  {
   "cell_type": "code",
   "execution_count": null,
   "id": "d32bc136",
   "metadata": {},
   "outputs": [],
   "source": [
    "# waveform = midi.fluidsynth(fs=SAMPLING_RATE)\n",
    "# waveform_short = waveform[:SECONDS*SAMPLING_RATE]\n",
    "# sf.write(filename, waveform_short, SAMPLING_RATE)\n",
    "# print(f\"[!] Music saved succesfully to {filename}\")"
   ]
  }
 ],
 "metadata": {
  "kernelspec": {
   "display_name": ".music",
   "language": "python",
   "name": "python3"
  },
  "language_info": {
   "codemirror_mode": {
    "name": "ipython",
    "version": 3
   },
   "file_extension": ".py",
   "mimetype": "text/x-python",
   "name": "python",
   "nbconvert_exporter": "python",
   "pygments_lexer": "ipython3",
   "version": "3.12.3"
  }
 },
 "nbformat": 4,
 "nbformat_minor": 5
}
